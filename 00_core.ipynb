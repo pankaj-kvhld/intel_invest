{
 "cells": [
  {
   "cell_type": "code",
   "execution_count": null,
   "metadata": {},
   "outputs": [],
   "source": [
    "# default_exp core"
   ]
  },
  {
   "cell_type": "code",
   "execution_count": null,
   "metadata": {},
   "outputs": [],
   "source": [
    "#export\n",
    "from urllib.request import urlopen\n",
    "from bs4 import BeautifulSoup\n",
    "import statistics as st"
   ]
  },
  {
   "cell_type": "markdown",
   "metadata": {},
   "source": [
    "# intel_invest\n",
    "\n",
    "> A package to obtain the relevant figures for a company and apply some rules of thumb precribed in the book Intelligent Investor, by Benjamin Graham."
   ]
  },
  {
   "cell_type": "code",
   "execution_count": null,
   "metadata": {},
   "outputs": [],
   "source": [
    "#hide\n",
    "from nbdev.showdoc import *"
   ]
  },
  {
   "cell_type": "code",
   "execution_count": null,
   "metadata": {},
   "outputs": [
    {
     "data": {
      "text/plain": [
       "float"
      ]
     },
     "execution_count": null,
     "metadata": {},
     "output_type": "execute_result"
    }
   ],
   "source": [
    "type(float(\"NaN\"))"
   ]
  },
  {
   "cell_type": "code",
   "execution_count": null,
   "metadata": {},
   "outputs": [],
   "source": [
    "#export \n",
    "def _flotify(n: str) -> float:\n",
    "    try:\n",
    "        return float(n)\n",
    "    except ValueError:\n",
    "        return float(\"NaN\")"
   ]
  },
  {
   "cell_type": "markdown",
   "metadata": {},
   "source": [
    "This is the main class which contains within it all the functionality for decision making."
   ]
  },
  {
   "cell_type": "code",
   "execution_count": null,
   "metadata": {},
   "outputs": [],
   "source": [
    "# export\n",
    "class Stock:\n",
    "    def __init__(self, symbol: str) -> None:\n",
    "        self.symbol = symbol\n",
    "        self.url_financial = (\n",
    "            f\"http://www.marketwatch.com/investing/stock/{symbol}/financials\"\n",
    "        )\n",
    "        self.url_profile = (\n",
    "            f\"http://www.marketwatch.com/investing/stock/{symbol}/profile\"\n",
    "        )\n",
    "        self.soup_financial = self._get_soup(self.url_financial)\n",
    "        self.soup_profile = self._get_soup(self.url_profile)\n",
    "\n",
    "    def _get_soup(self, url: str) -> str:\n",
    "        return BeautifulSoup(urlopen(url).read(), features=\"html.parser\")\n",
    "\n",
    "    def get_price(self) -> float:\n",
    "        \"\"\"Fetchs the price of stock.\"\"\"\n",
    "        price = self.soup_financial.find(\"bg-quote\", {\"class\": \"value\"})\n",
    "        return _flotify(price.text)\n",
    "\n",
    "    def get_esp(self) -> list:\n",
    "        \"\"\"Fetches earning per share or last 5 years.\"\"\"\n",
    "        titles = self.soup_financial.findAll(\n",
    "            \"td\", {\"class\": \"overflow__cell fixed--column\"}\n",
    "        )\n",
    "        esp_title = [t for t in titles if \"EPS (Basic)\" in t.text]\n",
    "        if esp_title:\n",
    "            esp_title = esp_title[0]\n",
    "        eps = [\n",
    "            _flotify(t.text)\n",
    "            for t in esp_title.findNextSiblings(attrs={\"class\": \"overflow__cell\"})[:5]\n",
    "        ]\n",
    "        return eps\n",
    "\n",
    "    def max_price(self) -> float:\n",
    "        \"\"\"Calculates the maximum price one should pay for a stock.\n",
    "\n",
    "        Max stock price = 25 * 5 year average EPS.\n",
    "        \"\"\"\n",
    "        return 25 * st.mean(self.get_esp())\n",
    "\n",
    "    def get_pe(self) -> float:\n",
    "        \"\"\"Fetches price to earning ratio (current).\"\"\"\n",
    "        label_val = zip(\n",
    "            self.soup_profile.findAll(\"td\", {\"class\": \"table__cell w75\"}),\n",
    "            self.soup_profile.findAll(\"td\", {\"class\": \"table__cell w25\"}),\n",
    "        )\n",
    "        pe = [val.text for lab,val in label_val if \"P/E Current\" in lab.text]\n",
    "        return _flotify(pe[0])\n",
    "    \n",
    "    def get_pbv(self) -> float:\n",
    "        \"\"\"Fetches price to book value.\"\"\"\n",
    "        label_val = zip(\n",
    "            self.soup_profile.findAll(\"td\", {\"class\": \"table__cell w75\"}),\n",
    "            self.soup_profile.findAll(\"td\", {\"class\": \"table__cell w25\"}),\n",
    "        )\n",
    "        pbv = [val.text for lab,val in label_val if \"Price to Book Ratio\" in lab.text]\n",
    "        return _flotify(pbv[0])\n",
    "    \n",
    "    def will_ben_buy_2(self):\n",
    "        \"\"\"Ben Graham's rule 2 is that P/E * P/BV < 22.5.\"\"\"\n",
    "        return self.get_pe() * self.get_pbv() < 22.5\n",
    "    \n",
    "    def will_ben_buy_1(self):\n",
    "        \"\"\"Ben Graham's rule 1 is that P < 5 yr average of EPS.\"\"\"\n",
    "        return self.get_price() < self.max_price()"
   ]
  },
  {
   "cell_type": "code",
   "execution_count": null,
   "metadata": {},
   "outputs": [],
   "source": [
    "s = Stock(\"ABT\")"
   ]
  },
  {
   "cell_type": "code",
   "execution_count": null,
   "metadata": {},
   "outputs": [
    {
     "data": {
      "text/plain": [
       "False"
      ]
     },
     "execution_count": null,
     "metadata": {},
     "output_type": "execute_result"
    }
   ],
   "source": [
    "s.will_ben_buy_1()"
   ]
  },
  {
   "cell_type": "code",
   "execution_count": null,
   "metadata": {},
   "outputs": [
    {
     "data": {
      "text/plain": [
       "False"
      ]
     },
     "execution_count": null,
     "metadata": {},
     "output_type": "execute_result"
    }
   ],
   "source": [
    "s.will_ben_buy_2()"
   ]
  },
  {
   "cell_type": "code",
   "execution_count": null,
   "metadata": {},
   "outputs": [
    {
     "data": {
      "text/plain": [
       "35.65"
      ]
     },
     "execution_count": null,
     "metadata": {},
     "output_type": "execute_result"
    }
   ],
   "source": [
    "s.max_price()"
   ]
  },
  {
   "cell_type": "code",
   "execution_count": null,
   "metadata": {},
   "outputs": [
    {
     "data": {
      "text/plain": [
       "47.13"
      ]
     },
     "execution_count": null,
     "metadata": {},
     "output_type": "execute_result"
    }
   ],
   "source": [
    "s.get_pe()"
   ]
  },
  {
   "cell_type": "code",
   "execution_count": null,
   "metadata": {},
   "outputs": [
    {
     "data": {
      "text/plain": [
       "117.2"
      ]
     },
     "execution_count": null,
     "metadata": {},
     "output_type": "execute_result"
    }
   ],
   "source": [
    "s.get_price()"
   ]
  },
  {
   "cell_type": "code",
   "execution_count": null,
   "metadata": {},
   "outputs": [
    {
     "data": {
      "text/plain": [
       "5.92"
      ]
     },
     "execution_count": null,
     "metadata": {},
     "output_type": "execute_result"
    }
   ],
   "source": [
    "s.get_pbv()"
   ]
  }
 ],
 "metadata": {
  "kernelspec": {
   "display_name": "Python 3",
   "language": "python",
   "name": "python3"
  }
 },
 "nbformat": 4,
 "nbformat_minor": 2
}
