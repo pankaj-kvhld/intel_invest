{
 "cells": [
  {
   "cell_type": "code",
   "execution_count": null,
   "metadata": {},
   "outputs": [],
   "source": [
    "# default_exp core"
   ]
  },
  {
   "cell_type": "code",
   "execution_count": null,
   "metadata": {},
   "outputs": [],
   "source": [
    "#export\n",
    "from urllib.request import urlopen\n",
    "from bs4 import BeautifulSoup\n",
    "import statistics as st"
   ]
  },
  {
   "cell_type": "markdown",
   "metadata": {},
   "source": [
    "# intel_invest\n",
    "\n",
    "> A package to obtain the relevant figures for a company and apply some rules of thumb precribed in the book Intelligent Investor, by Benjamin Graham."
   ]
  },
  {
   "cell_type": "code",
   "execution_count": null,
   "metadata": {},
   "outputs": [],
   "source": [
    "#hide\n",
    "from nbdev.showdoc import *"
   ]
  },
  {
   "cell_type": "code",
   "execution_count": null,
   "metadata": {},
   "outputs": [
    {
     "data": {
      "text/plain": [
       "float"
      ]
     },
     "execution_count": null,
     "metadata": {},
     "output_type": "execute_result"
    }
   ],
   "source": [
    "type(float(\"NaN\"))"
   ]
  },
  {
   "cell_type": "code",
   "execution_count": null,
   "metadata": {},
   "outputs": [],
   "source": [
    "#export \n",
    "def _flotify(n: str) -> float:\n",
    "    try:\n",
    "        return float(n)\n",
    "    except ValueError:\n",
    "        return float(\"NaN\")"
   ]
  },
  {
   "cell_type": "code",
   "execution_count": null,
   "metadata": {},
   "outputs": [],
   "source": [
    "# export\n",
    "class Stock:\n",
    "    def __init__(self, symbol):\n",
    "        self.symbol = symbol\n",
    "        self.url = f\"http://www.marketwatch.com/investing/stock/{symbol}/financials\"\n",
    "\n",
    "    def _get_soup(self) -> str:\n",
    "        return BeautifulSoup(urlopen(self.url).read(), features=\"html.parser\")\n",
    "\n",
    "    def get_price(self) -> float:\n",
    "        \"\"\"Fetchs the price of stock.\"\"\"\n",
    "        txt = self._get_soup()\n",
    "        price = txt.find(\"bg-quote\", {\"class\": \"value\"})\n",
    "        return _flotify(price.text)\n",
    "\n",
    "    def get_esp(self) -> list:\n",
    "        \"\"\"Fetches earning per share or last 5 years.\"\"\"\n",
    "        txt = self._get_soup()\n",
    "        titles = txt.findAll(\"td\", {\"class\": \"overflow__cell fixed--column\"})\n",
    "        esp_title = [t for t in titles if \"EPS (Basic)\" in t.text]\n",
    "        if esp_title:\n",
    "            esp_title = esp_title[0]\n",
    "        eps = [\n",
    "            _flotify(t.text)\n",
    "            for t in esp_title.findNextSiblings(attrs={\"class\": \"overflow__cell\"})[:5]\n",
    "        ]\n",
    "        return eps\n",
    "    \n",
    "    def max_price(self) -> float:\n",
    "        \"\"\"Calculates the maximum price one should pay for a stock.\n",
    "        \n",
    "        Max stock price = 25 * 5 year average EPS.\n",
    "        \"\"\"\n",
    "        return 25 * st.mean(self.get_esp())"
   ]
  }
 ],
 "metadata": {
  "kernelspec": {
   "display_name": "Python 3",
   "language": "python",
   "name": "python3"
  }
 },
 "nbformat": 4,
 "nbformat_minor": 2
}
